{
 "cells": [
  {
   "cell_type": "code",
   "execution_count": null,
   "id": "d6aff718",
   "metadata": {},
   "outputs": [],
   "source": [
    "#| default_exp deck"
   ]
  },
  {
   "cell_type": "markdown",
   "id": "f315804f",
   "metadata": {},
   "source": [
    "# deck\n",
    "\n",
    "> A deck of playing cards"
   ]
  },
  {
   "cell_type": "code",
   "execution_count": null,
   "id": "a0c529e9",
   "metadata": {},
   "outputs": [],
   "source": [
    "#| hide\n",
    "from nbdev.showdoc import *\n",
    "from fastcore.test import *"
   ]
  },
  {
   "cell_type": "code",
   "execution_count": null,
   "id": "31f908bc",
   "metadata": {},
   "outputs": [],
   "source": [
    "#| export\n",
    "from nbdev_cards.card import *\n",
    "from fastcore.utils import * \n",
    "import random"
   ]
  },
  {
   "cell_type": "code",
   "execution_count": null,
   "id": "89487c09",
   "metadata": {},
   "outputs": [],
   "source": [
    "# f(1, 2)"
   ]
  },
  {
   "cell_type": "code",
   "execution_count": null,
   "id": "ad1c313a",
   "metadata": {},
   "outputs": [],
   "source": [
    "#| export\n",
    "class Deck:\n",
    "    \"A deck of 52 cards not including jokers\"\n",
    "    def __init__(self): self.cards = [Card(s, r) for s in range(4) for r in range(1, 14)]\n",
    "    def __str__(self): return '; '.join(map(str, self.cards))\n",
    "    __repr__ = __str__\n",
    "    def __len__(self): return len(self.cards)\n",
    "    def __contains__(self, card: Card): return card in self.cards\n",
    "    \n",
    "    def shuffle(self):\n",
    "        \"Shuffles the deck of cards\"\n",
    "        random.shuffle(self.cards)"
   ]
  },
  {
   "cell_type": "markdown",
   "id": "9ac7cb68",
   "metadata": {},
   "source": [
    "When we initially create a deck, all of the cards will be present"
   ]
  },
  {
   "cell_type": "code",
   "execution_count": null,
   "id": "5ae12086",
   "metadata": {},
   "outputs": [],
   "source": [
    "deck = Deck()"
   ]
  },
  {
   "cell_type": "code",
   "execution_count": null,
   "id": "c2f1caeb",
   "metadata": {},
   "outputs": [
    {
     "data": {
      "text/plain": [
       "52"
      ]
     },
     "execution_count": null,
     "metadata": {},
     "output_type": "execute_result"
    }
   ],
   "source": [
    "len(deck)"
   ]
  },
  {
   "cell_type": "code",
   "execution_count": null,
   "id": "f0d74a22",
   "metadata": {},
   "outputs": [
    {
     "data": {
      "text/plain": [
       "True"
      ]
     },
     "execution_count": null,
     "metadata": {},
     "output_type": "execute_result"
    }
   ],
   "source": [
    "Card(1, 1) in deck"
   ]
  },
  {
   "cell_type": "code",
   "execution_count": null,
   "id": "b98adb64",
   "metadata": {},
   "outputs": [
    {
     "data": {
      "text/plain": [
       "False"
      ]
     },
     "execution_count": null,
     "metadata": {},
     "output_type": "execute_result"
    }
   ],
   "source": [
    "Card(1, 15) in deck"
   ]
  },
  {
   "cell_type": "code",
   "execution_count": null,
   "id": "d12da954",
   "metadata": {},
   "outputs": [],
   "source": [
    "test_eq(len(deck), 52)"
   ]
  },
  {
   "cell_type": "code",
   "execution_count": null,
   "id": "e07128d2",
   "metadata": {},
   "outputs": [],
   "source": [
    "#| export\n",
    "@patch\n",
    "def pop(self:Deck, \n",
    "        idx:int=-1): # index of card to remove, defaults to last one\n",
    "    \"Remove one card\"\n",
    "    return self.cards.pop(idx)"
   ]
  },
  {
   "cell_type": "code",
   "execution_count": null,
   "id": "9f2b0886",
   "metadata": {},
   "outputs": [
    {
     "data": {
      "text/plain": [
       "K♠️"
      ]
     },
     "execution_count": null,
     "metadata": {},
     "output_type": "execute_result"
    }
   ],
   "source": [
    "deck.pop()"
   ]
  },
  {
   "cell_type": "code",
   "execution_count": null,
   "id": "3d4448eb",
   "metadata": {},
   "outputs": [],
   "source": [
    "#| export\n",
    "@patch\n",
    "def remove(self: Deck, card: Card):\n",
    "    self.cards.remove(card)"
   ]
  },
  {
   "cell_type": "code",
   "execution_count": null,
   "id": "6d69d8aa",
   "metadata": {},
   "outputs": [],
   "source": [
    "random.choice??"
   ]
  },
  {
   "cell_type": "code",
   "execution_count": null,
   "id": "bc337cd7",
   "metadata": {},
   "outputs": [],
   "source": [
    "#| export\n",
    "def draw_n(n: int, replace:bool=True):\n",
    "    d = Deck()\n",
    "    d.shuffle()\n",
    "    if replace:\n",
    "        return [random.choice(d.cards) for _ in range(n)]\n",
    "    else:\n",
    "        return d.cards[:n]"
   ]
  },
  {
   "cell_type": "code",
   "execution_count": null,
   "id": "186f80ec",
   "metadata": {},
   "outputs": [
    {
     "data": {
      "text/plain": [
       "[A♥️, 7♥️, 7♦️, 5♥️, 8♦️, 5♦️, A♠️, 5♥️, 5♣️, 10♥️, 4♦️, 5♦️, Q♦️]"
      ]
     },
     "execution_count": null,
     "metadata": {},
     "output_type": "execute_result"
    }
   ],
   "source": [
    "draw_n(13, replace=True)"
   ]
  },
  {
   "cell_type": "code",
   "execution_count": null,
   "id": "fa14ccbb",
   "metadata": {},
   "outputs": [
    {
     "data": {
      "text/plain": [
       "[8♥️, 6♠️, 8♣️, Q♣️, 3♣️, 7♦️, 2♣️, Q♥️, A♥️, 2♥️, 4♦️, 8♦️, 4♥️]"
      ]
     },
     "execution_count": null,
     "metadata": {},
     "output_type": "execute_result"
    }
   ],
   "source": [
    "draw_n(13, replace=False)"
   ]
  },
  {
   "cell_type": "code",
   "execution_count": null,
   "id": "cbaf58b7",
   "metadata": {},
   "outputs": [],
   "source": []
  }
 ],
 "metadata": {
  "kernelspec": {
   "display_name": "python3",
   "language": "python",
   "name": "python3"
  }
 },
 "nbformat": 4,
 "nbformat_minor": 5
}
